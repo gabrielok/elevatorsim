{
 "cells": [
  {
   "cell_type": "code",
   "execution_count": 372,
   "metadata": {},
   "outputs": [],
   "source": [
    "import random\n",
    "import matplotlib.pyplot as plt\n",
    "\n",
    "def calcbeta(alpha, beta, maximum, offset = 0):\n",
    "    return [round(maximum * random.betavariate(alpha, beta)) + offset for i in range(500)]\n",
    "\n",
    "def plotbeta(betas, cumulative = False):\n",
    "    hist = plt.hist(betas, max(betas) - min(betas), density = True, histtype = 'step')\n",
    "    if cumulative:\n",
    "        plt.hist(betas, max(betas) - min(betas), density = True, histtype = 'step', cumulative = True)\n",
    "    return hist"
   ]
  },
  {
   "cell_type": "code",
   "execution_count": 369,
   "metadata": {
    "scrolled": true
   },
   "outputs": [
    {
     "name": "stdout",
     "output_type": "stream",
     "text": [
      "[array([0.746, 0.254]), array([0., 1.])]\n",
      "[array([0.708, 0.212, 0.08 ]), array([1., 2., 3.])]\n"
     ]
    },
    {
     "data": {
      "image/png": "[encoded data removed]",
      "text/plain": [
       "<Figure size 432x288 with 1 Axes>"
      ]
     },
     "metadata": {
      "needs_background": "light"
     },
     "output_type": "display_data"
    },
    {
     "data": {
      "image/png": "[encoded data removed]",
      "text/plain": [
       "<Figure size 432x288 with 1 Axes>"
      ]
     },
     "metadata": {
      "needs_background": "light"
     },
     "output_type": "display_data"
    }
   ],
   "source": [
    "# works from home / rarely leaves\n",
    "beta = calcbeta(0.3, 2, 3)\n",
    "hist = plotbeta(beta)\n",
    "p1_week = [hist[0], hist[1][:-1]]\n",
    "print(p1_week)\n",
    "\n",
    "# works outside / rarely leaves\n",
    "beta = calcbeta(0.3, 2, 3, 1)\n",
    "plt.figure(2)\n",
    "hist = plotbeta(beta)\n",
    "p2_week = [hist[0], hist[1][:-1]]\n",
    "print(p2_week)"
   ]
  },
  {
   "cell_type": "code",
   "execution_count": 370,
   "metadata": {
    "scrolled": true
   },
   "outputs": [
    {
     "name": "stdout",
     "output_type": "stream",
     "text": [
      "[array([0.534, 0.282, 0.184]), array([0., 1., 2.])]\n",
      "[array([0.498, 0.292, 0.21 ]), array([1., 2., 3.])]\n"
     ]
    },
    {
     "data": {
      "image/png": "[encoded data removed]",
      "text/plain": [
       "<Figure size 432x288 with 1 Axes>"
      ]
     },
     "metadata": {
      "needs_background": "light"
     },
     "output_type": "display_data"
    },
    {
     "data": {
      "image/png": "[encoded data removed]",
      "text/plain": [
       "<Figure size 432x288 with 1 Axes>"
      ]
     },
     "metadata": {
      "needs_background": "light"
     },
     "output_type": "display_data"
    }
   ],
   "source": [
    "# works from home / leaves often\n",
    "beta = calcbeta(0.5, 1.5, 3)\n",
    "hist = plotbeta(beta)\n",
    "p3_week = [hist[0], hist[1][:-1]]\n",
    "print(p3_week)\n",
    "\n",
    "# works outside / leaves often\n",
    "beta = calcbeta(0.5, 1.5, 3, 1)\n",
    "plt.figure(2)\n",
    "hist = plotbeta(beta)\n",
    "p3_week = [hist[0], hist[1][:-1]]\n",
    "print(p3_week)"
   ]
  },
  {
   "cell_type": "code",
   "execution_count": 371,
   "metadata": {
    "scrolled": false
   },
   "outputs": [
    {
     "name": "stdout",
     "output_type": "stream",
     "text": [
      "[array([0.334, 0.46 , 0.206]), array([0., 1., 2.])]\n",
      "[array([0.292, 0.464, 0.244]), array([1., 2., 3.])]\n"
     ]
    },
    {
     "data": {
      "image/png": "[encoded data removed]",
      "text/plain": [
       "<Figure size 432x288 with 1 Axes>"
      ]
     },
     "metadata": {
      "needs_background": "light"
     },
     "output_type": "display_data"
    },
    {
     "data": {
      "image/png": "[encoded data removed]",
      "text/plain": [
       "<Figure size 432x288 with 1 Axes>"
      ]
     },
     "metadata": {
      "needs_background": "light"
     },
     "output_type": "display_data"
    }
   ],
   "source": [
    "# works from home / leaves very often\n",
    "beta = calcbeta(1, 2, 3)\n",
    "hist = plotbeta(beta)\n",
    "p4_week = [hist[0], hist[1][:-1]]\n",
    "print(p4_week)\n",
    "\n",
    "# works outside / leaves very often\n",
    "beta = calcbeta(1, 2, 3, 1)\n",
    "plt.figure(2)\n",
    "hist = plotbeta(beta)\n",
    "p4_week = [hist[0], hist[1][:-1]]\n",
    "print(p4_week)"
   ]
  },
  {
   "cell_type": "code",
   "execution_count": 1,
   "metadata": {},
   "outputs": [],
   "source": [
    "import heapq"
   ]
  },
  {
   "cell_type": "code",
   "execution_count": 5,
   "metadata": {},
   "outputs": [
    {
     "data": {
      "text/plain": [
       "[9, 10]"
      ]
     },
     "execution_count": 5,
     "metadata": {},
     "output_type": "execute_result"
    }
   ],
   "source": [
    "order_up = []\n",
    "heapq.heappush(order_up, 10)\n",
    "heapq.heappush(order_up, 9)\n",
    "heapq.heappush(order_up, 8)\n",
    "heapq.heappop(order_up)\n",
    "order_up"
   ]
  },
  {
   "cell_type": "code",
   "execution_count": 68,
   "metadata": {},
   "outputs": [],
   "source": [
    "import random\n",
    "import heapq\n",
    "\n",
    "\n",
    "class building:\n",
    "    def __init__(self, floors = 18):\n",
    "        self.floors = floors\n",
    "        self.floorheight = 4.1\n",
    "\n",
    "    def createElevator(self, spd, acc, jerk, cap):\n",
    "        self.elevator = elevator(spd, acc, jerk, cap)\n",
    "\n",
    "class person:\n",
    "    def __init__(self, floor):\n",
    "        self.floor = floor\n",
    "        self.weekday = choice(profiles_weekdays, weights)\n",
    "        self.weekend = choice(profiles_weekends, weights)\n",
    "\n",
    "class elevator:\n",
    "    def __init__(self, spd = 3, acc = 1.5, jerk = 1.6, cap = 4):\n",
    "        self.spd_max = spd\n",
    "        self.acc_max = acc\n",
    "        self.jerk_max = jerk\n",
    "        self.cap = cap\n",
    "        self.count = 0\n",
    "        self.order_down = []\n",
    "        self.order_up = []\n",
    "        self.floor = 0\n",
    "        self.direction = 0  # -1 down, 0 still, 1 up\n",
    "\n",
    "    def push(self, destination):\n",
    "        if destination > self.floor:\n",
    "            try:\n",
    "                self.order_up.index(destination)\n",
    "            except ValueError:\n",
    "                # destination is not yet in the heaps\n",
    "                heapq.heappush(self.order_up, destination)\n",
    "        else:\n",
    "            try:\n",
    "                self.order_down.index(- destination)\n",
    "            except ValueError:\n",
    "                # destination is not yet in the heaps\n",
    "                heapq.heappush(self.order_down, - destination) # negative values for a max heap\n",
    "        \n",
    "        if self.direction == 0:\n",
    "            if len(self.order_up) > 0:\n",
    "                self.direction = 1\n",
    "            elif len(self.order_down) > 0:\n",
    "                self.direction = -1\n",
    "    \n",
    "    def peek(self):\n",
    "        if self.direction == 1:\n",
    "            return self.order_up[0]\n",
    "        elif self.direction == -1:\n",
    "            return - self.order_down[0]\n",
    "        \n",
    "    def board(self, person):\n",
    "        if self.count < self.cap:\n",
    "            self.push(person.destination)\n",
    "            self.count = self.count + 1\n",
    "            return True\n",
    "        else:\n",
    "            return False\n",
    "\n",
    "    def disembark(self):\n",
    "        self.count = self.count - 1\n",
    "        if self.direction == -1:\n",
    "            heapq.heappop(order_down)\n",
    "            if len(order_down) == 0:    # reached final down destination\n",
    "                if len(order_up) > 0:   # if there are up destinations in queue\n",
    "                    direction = 1\n",
    "                else:                   # there are no destionations in queue\n",
    "                    direction = 0\n",
    "        else:\n",
    "            heapq.heappop(order_up)\n",
    "            if len(order_up) == 0:    # reached final up destination\n",
    "                if len(order_down) > 0:   # if there are down destinations in queue\n",
    "                    direction = -1\n",
    "                else:                   # there are no destionations in queue\n",
    "                    direction = 0\n",
    "\n",
    "\n",
    "mybuilding = building(18)\n",
    "mybuilding.createElevator(3, 1.5, 1.6, 4)\n",
    "\n",
    "## main loop\n"
   ]
  },
  {
   "cell_type": "code",
   "execution_count": 71,
   "metadata": {},
   "outputs": [
    {
     "name": "stdout",
     "output_type": "stream",
     "text": [
      "[11]\n",
      "[-7, -6, -5]\n"
     ]
    }
   ],
   "source": [
    "mybuilding.elevator.floor = 10\n",
    "mybuilding.elevator.push(6)\n",
    "mybuilding.elevator.push(7)\n",
    "mybuilding.elevator.push(5)\n",
    "mybuilding.elevator.push(11)\n",
    "print(mybuilding.elevator.order_up)\n",
    "print(mybuilding.elevator.order_down)"
   ]
  },
  {
   "cell_type": "code",
   "execution_count": 75,
   "metadata": {},
   "outputs": [
    {
     "data": {
      "text/plain": [
       "7"
      ]
     },
     "execution_count": 75,
     "metadata": {},
     "output_type": "execute_result"
    }
   ],
   "source": [
    "mybuilding.elevator.peek()"
   ]
  }
 ],
 "metadata": {
  "kernelspec": {
   "display_name": "Python 3",
   "language": "python",
   "name": "python3"
  },
  "language_info": {
   "codemirror_mode": {
    "name": "ipython",
    "version": 3
   },
   "file_extension": ".py",
   "mimetype": "text/x-python",
   "name": "python",
   "nbconvert_exporter": "python",
   "pygments_lexer": "ipython3",
   "version": "3.7.9"
  }
 },
 "nbformat": 4,
 "nbformat_minor": 4
}
