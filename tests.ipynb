{
 "cells": [
  {
   "cell_type": "code",
   "execution_count": 6,
   "metadata": {
    "ExecuteTime": {
     "end_time": "2021-08-11T20:51:51.172231Z",
     "start_time": "2021-08-11T20:51:51.152231Z"
    }
   },
   "outputs": [
    {
     "ename": "SyntaxError",
     "evalue": "positional argument follows keyword argument (<ipython-input-6-c10bc4af23bf>, line 8)",
     "output_type": "error",
     "traceback": [
      "\u001b[1;36m  File \u001b[1;32m\"<ipython-input-6-c10bc4af23bf>\"\u001b[1;36m, line \u001b[1;32m8\u001b[0m\n\u001b[1;33m    hist = plt.hist(betas, max(betas) - min(betas), density = True, histtype = 'step', cumulative)\u001b[0m\n\u001b[1;37m                                                                                      ^\u001b[0m\n\u001b[1;31mSyntaxError\u001b[0m\u001b[1;31m:\u001b[0m positional argument follows keyword argument\n"
     ]
    }
   ],
   "source": [
    "import random\n",
    "import matplotlib.pyplot as plt\n",
    "\n",
    "def calcbeta(alpha, beta, maximum, offset = 0):\n",
    "    return [round(maximum * random.betavariate(alpha, beta)) + offset for i in range(500)]\n",
    "\n",
    "def plotbeta(betas, cumulative=False):\n",
    "    hist = plt.hist(betas, max(betas) - min(betas), density = True, histtype = 'step', cumulative)\n",
    "    return hist"
   ]
  },
  {
   "cell_type": "code",
   "execution_count": null,
   "metadata": {},
   "outputs": [],
   "source": [
    "import numpy as np\n",
    "beta = calcbeta(alpha=0.3, \n",
    "                beta=2, \n",
    "                maximum=3)\n",
    "print(beta)\n",
    "print(np.histogram(beta, bins=3))"
   ]
  },
  {
   "cell_type": "code",
   "execution_count": 9,
   "metadata": {
    "ExecuteTime": {
     "end_time": "2021-08-11T20:53:02.192266Z",
     "start_time": "2021-08-11T20:53:01.849877Z"
    },
    "scrolled": false
   },
   "outputs": [
    {
     "name": "stdout",
     "output_type": "stream",
     "text": [
      "[array([0.716, 0.204, 0.08 ]), array([0., 1., 2.])]\n",
      "[array([0.73 , 0.216, 0.054]), array([1., 2., 3.])]\n"
     ]
    },
    {
     "data": {
      "image/png": "[encoded data removed]",
      "text/plain": [
       "<Figure size 432x288 with 1 Axes>"
      ]
     },
     "metadata": {
      "needs_background": "light"
     },
     "output_type": "display_data"
    },
    {
     "data": {
      "image/png": "[encoded data removed]",
      "text/plain": [
       "<Figure size 432x288 with 1 Axes>"
      ]
     },
     "metadata": {
      "needs_background": "light"
     },
     "output_type": "display_data"
    }
   ],
   "source": [
    "# works from home / rarely leaves\n",
    "beta = calcbeta(alpha=0.3, \n",
    "                beta=2, \n",
    "                maximum=3)\n",
    "hist = plotbeta(beta)\n",
    "p1_week = [hist[0], hist[1][:-1]]\n",
    "print(p1_week)\n",
    "\n",
    "# works outside / rarely leaves\n",
    "beta = calcbeta(alpha=0.3, \n",
    "                beta=2, \n",
    "                maximum=3,\n",
    "               offset=1)\n",
    "plt.figure(2)\n",
    "hist = plotbeta(beta)\n",
    "p2_week = [hist[0], hist[1][:-1]]\n",
    "print(p2_week)"
   ]
  },
  {
   "cell_type": "code",
   "execution_count": 3,
   "metadata": {
    "ExecuteTime": {
     "end_time": "2021-08-11T20:22:52.533850Z",
     "start_time": "2021-08-11T20:22:52.134853Z"
    },
    "scrolled": false
   },
   "outputs": [
    {
     "name": "stdout",
     "output_type": "stream",
     "text": [
      "[array([0.53 , 0.306, 0.164]), array([0., 1., 2.])]\n",
      "[array([0.502, 0.29 , 0.208]), array([1., 2., 3.])]\n"
     ]
    },
    {
     "data": {
      "image/png": "[encoded data removed]",
      "text/plain": [
       "<Figure size 432x288 with 1 Axes>"
      ]
     },
     "metadata": {
      "needs_background": "light"
     },
     "output_type": "display_data"
    },
    {
     "data": {
      "image/png": "[encoded data removed]",
      "text/plain": [
       "<Figure size 432x288 with 1 Axes>"
      ]
     },
     "metadata": {
      "needs_background": "light"
     },
     "output_type": "display_data"
    }
   ],
   "source": [
    "# works from home / leaves often\n",
    "beta = calcbeta(0.5, 1.5, 3)\n",
    "hist = plotbeta(beta)\n",
    "p3_week = [hist[0], hist[1][:-1]]\n",
    "print(p3_week)\n",
    "\n",
    "# works outside / leaves often\n",
    "beta = calcbeta(0.5, 1.5, 3, 1)\n",
    "plt.figure(2)\n",
    "hist = plotbeta(beta)\n",
    "p3_week = [hist[0], hist[1][:-1]]\n",
    "print(p3_week)"
   ]
  },
  {
   "cell_type": "code",
   "execution_count": 4,
   "metadata": {
    "ExecuteTime": {
     "end_time": "2021-08-11T20:22:52.936853Z",
     "start_time": "2021-08-11T20:22:52.583866Z"
    },
    "scrolled": false
   },
   "outputs": [
    {
     "name": "stdout",
     "output_type": "stream",
     "text": [
      "[array([0.278, 0.458, 0.264]), array([0., 1., 2.])]\n",
      "[array([0.288, 0.476, 0.236]), array([1., 2., 3.])]\n"
     ]
    },
    {
     "data": {
      "image/png": "[encoded data removed]",
      "text/plain": [
       "<Figure size 432x288 with 1 Axes>"
      ]
     },
     "metadata": {
      "needs_background": "light"
     },
     "output_type": "display_data"
    },
    {
     "data": {
      "image/png": "[encoded data removed]",
      "text/plain": [
       "<Figure size 432x288 with 1 Axes>"
      ]
     },
     "metadata": {
      "needs_background": "light"
     },
     "output_type": "display_data"
    }
   ],
   "source": [
    "# works from home / leaves very often\n",
    "beta = calcbeta(1, 2, 3)\n",
    "hist = plotbeta(beta)\n",
    "p4_week = [hist[0], hist[1][:-1]]\n",
    "print(p4_week)\n",
    "\n",
    "# works outside / leaves very often\n",
    "beta = calcbeta(1, 2, 3, 1)\n",
    "plt.figure(2)\n",
    "hist = plotbeta(beta)\n",
    "p4_week = [hist[0], hist[1][:-1]]\n",
    "print(p4_week)"
   ]
  },
  {
   "cell_type": "code",
   "execution_count": 5,
   "metadata": {
    "ExecuteTime": {
     "end_time": "2021-08-11T20:22:53.000853Z",
     "start_time": "2021-08-11T20:22:52.971851Z"
    }
   },
   "outputs": [],
   "source": [
    "import heapq\n",
    "\n",
    "class building:\n",
    "    def __init__(self, floors = 18):\n",
    "        self.floors = floors\n",
    "        self.floorheight = 4.1\n",
    "\n",
    "    def createElevator(self, spd = 3, acc = 1.5, jerk = 1.6, cap = 4, ret = False):\n",
    "        self.elevator = elevator(spd, acc, jerk, cap, ret)\n",
    "\n",
    "class person:\n",
    "    def __init__(self, floor):\n",
    "        self.floor = floor\n",
    "        self.weekday = choice(profiles_weekdays, weights)\n",
    "        self.weekend = choice(profiles_weekends, weights)\n",
    "\n",
    "class elevator:\n",
    "    def __init__(self, spd, acc, jerk, cap, ret):\n",
    "        self.spd_max = spd\n",
    "        self.acc_max = acc\n",
    "        self.jerk_max = jerk\n",
    "        self.cap = cap\n",
    "        self.count = 0\n",
    "        self.order_down = []\n",
    "        self.order_up = []\n",
    "        self.floor = 0\n",
    "        self.direction = 0  # -1 down, 0 still, 1 up\n",
    "        self.ret_floor = 0\n",
    "        self.ret = ret\n",
    "\n",
    "    def push(self, destination):\n",
    "        if destination > self.floor:\n",
    "            try:\n",
    "                self.order_up.index(destination)\n",
    "            except ValueError:\n",
    "                # destination is not yet in the heaps\n",
    "                heapq.heappush(self.order_up, destination)\n",
    "        else:\n",
    "            try:\n",
    "                self.order_down.index(- destination)\n",
    "            except ValueError:\n",
    "                # destination is not yet in the heaps\n",
    "                heapq.heappush(self.order_down, - destination) # negative values for a max heap\n",
    "        \n",
    "        if self.direction == 0:\n",
    "            if len(self.order_up) > 0:\n",
    "                self.direction = 1\n",
    "            elif len(self.order_down) > 0:\n",
    "                self.direction = -1\n",
    "    \n",
    "    def peek(self):\n",
    "        \"\"\"The next floor the elevator is headed\"\"\"\n",
    "        if self.direction == 1:\n",
    "            return self.order_up[0]\n",
    "        elif self.direction == -1:\n",
    "            return -self.order_down[0]\n",
    "        \n",
    "    def board(self, person):\n",
    "        if self.count < self.cap:\n",
    "            self.push(person.destination)\n",
    "            self.count = self.count + 1\n",
    "            return True\n",
    "        else:\n",
    "            return False\n",
    "\n",
    "    def disembark(self):\n",
    "        self.count = self.count - 1\n",
    "        if self.direction == -1:\n",
    "            heapq.heappop(order_down)\n",
    "            if len(order_down) == 0:    # reached final down destination\n",
    "                if len(order_up) > 0:   # if there are up destinations in queue\n",
    "                    direction = 1\n",
    "                else:                   # there are no destinations in queue\n",
    "                    direction = 0\n",
    "        else:\n",
    "            heapq.heappop(order_up)\n",
    "            if len(order_up) == 0:    # reached final up destination\n",
    "                if len(order_down) > 0:   # if there are down destinations in queue\n",
    "                    direction = -1\n",
    "                else:                   # there are no destinations in queue\n",
    "                    direction = 0\n",
    "\n",
    "\n",
    "mybuilding = building(18)\n",
    "mybuilding.createElevator(3, 1.5, 1.6, 4)"
   ]
  },
  {
   "cell_type": "code",
   "execution_count": 15,
   "metadata": {},
   "outputs": [
    {
     "name": "stdout",
     "output_type": "stream",
     "text": [
      "[11]\n",
      "[-7, -6, -5]\n"
     ]
    }
   ],
   "source": [
    "## main loop\n",
    "mybuilding.elevator.floor = 10\n",
    "mybuilding.elevator.push(6)\n",
    "mybuilding.elevator.push(7)\n",
    "mybuilding.elevator.push(5)\n",
    "mybuilding.elevator.push(11)\n",
    "print(mybuilding.elevator.order_up)\n",
    "print(mybuilding.elevator.order_down)"
   ]
  },
  {
   "cell_type": "code",
   "execution_count": 8,
   "metadata": {},
   "outputs": [
    {
     "data": {
      "text/plain": [
       "7"
      ]
     },
     "execution_count": 8,
     "metadata": {},
     "output_type": "execute_result"
    }
   ],
   "source": [
    "mybuilding.elevator.peek()"
   ]
  },
  {
   "cell_type": "code",
   "execution_count": 4,
   "metadata": {
    "scrolled": false
   },
   "outputs": [
    {
     "name": "stdout",
     "output_type": "stream",
     "text": [
      "End floor: 19.998634906354457\n"
     ]
    },
    {
     "data": {
      "image/png": "[encoded data removed]",
      "text/plain": [
       "<Figure size 432x288 with 1 Axes>"
      ]
     },
     "metadata": {
      "needs_background": "light"
     },
     "output_type": "display_data"
    },
    {
     "data": {
      "image/png": "[encoded data removed]",
      "text/plain": [
       "<Figure size 432x288 with 1 Axes>"
      ]
     },
     "metadata": {
      "needs_background": "light"
     },
     "output_type": "display_data"
    },
    {
     "data": {
      "image/png": "[encoded data removed]",
      "text/plain": [
       "<Figure size 432x288 with 1 Axes>"
      ]
     },
     "metadata": {
      "needs_background": "light"
     },
     "output_type": "display_data"
    }
   ],
   "source": [
    "import numpy as np\n",
    "import matplotlib.pyplot as plt\n",
    "\n",
    "sqrt = np.sqrt\n",
    "zeros = np.zeros\n",
    "linspace = np.linspace\n",
    "\n",
    "class physics:\n",
    "    def __init__(self, debug = False):\n",
    "        self.spd_max = 3\n",
    "        self.acc_max = 1.5\n",
    "        self.jerk_max = 1.6\n",
    "        self.elevatorFloor = 0\n",
    "        self.floorHeight = 4.1\n",
    "        self.debug = debug\n",
    "\n",
    "    def inc_acc(self, a_in, dt, a_des):\n",
    "        if a_in + self.jerk_max * dt < a_des:\n",
    "            a_out = a_in + self.jerk_max * dt\n",
    "        elif a_in < a_des:\n",
    "            a_out = a_des\n",
    "        else:\n",
    "            a_out = a_in\n",
    "        return a_out\n",
    "\n",
    "    def dec_acc(self, a_in, dt, a_des):\n",
    "        if a_in - self.jerk_max * dt > - a_des:\n",
    "            a_out = a_in - self.jerk_max  * dt\n",
    "        elif a_in > - a_des:\n",
    "            a_out = - a_des\n",
    "        else:\n",
    "            a_out = a_in\n",
    "        return a_out\n",
    "\n",
    "    def inc_spd(self, v_in, acc, v_travel):\n",
    "        if v_in + acc < v_travel:\n",
    "            v_out = v_in + acc\n",
    "        elif v_in < v_travel:\n",
    "            v_out = v_travel\n",
    "        else:\n",
    "            v_out = v_in\n",
    "        return v_out\n",
    "\n",
    "    def dec_spd(self, v_in, acc, v_travel):\n",
    "        if v_in + acc > - v_travel:\n",
    "            v_out = v_in + acc\n",
    "        elif v_in > - v_travel:\n",
    "            v_out = - v_travel\n",
    "        else:\n",
    "            v_out = v_in\n",
    "        return v_out\n",
    "\n",
    "    def updateFloor(self, dist):\n",
    "        newFloor = self.elevatorFloor + dist / self.floorHeight\n",
    "        self.elevatorFloor = newFloor\n",
    "\n",
    "    def moveElevator(self, destination, position):\n",
    "        nsteps = (destination - position + 2) * 5000\n",
    "        vm = self.spd_max\n",
    "        am = self.acc_max\n",
    "        jm = self.jerk_max\n",
    "        d = self.floorHeight * abs(destination - self.elevatorFloor)\n",
    "        v_travel = sqrt(d * am / 2)     # maximum speed employed on this trip\n",
    "        v_travel = min(v_travel, vm)\n",
    "        aj = am / jm\n",
    "\n",
    "        if d <= 0.6 * self.floorHeight: # maximum distance that can be travelled without reaching maximum acceleration\n",
    "            # TODO\n",
    "            raise ValueError('Movement below required threshold')\n",
    "        else:\n",
    "            t1 = aj\n",
    "            t2 = v_travel/am - aj\n",
    "            t3 = t1\n",
    "            d1 = 1/6 * aj ** 2 * am\n",
    "            d2 = v_travel ** 2 / (2 * am) - 1/2 * v_travel * aj\n",
    "            d3 = v_travel * aj - am / 6 * aj ** 2\n",
    "            d5 = v_travel * aj - am * aj ** 2 / 6\n",
    "            d6 = d2\n",
    "            d7 = 4/6 * am * aj ** 2 - am / 2 * aj ** 2\n",
    "\n",
    "        t_acc = t1 + t2 + t3\n",
    "        t_deacc = t_acc\n",
    "        d_acc = d1 + d2 + d3\n",
    "        d_deacc = d5 + d6 + d7\n",
    "        t_travel = (d - d_acc - d_deacc) / v_travel\n",
    "        t = t_acc + t_deacc + t_travel\n",
    "        dt = t / nsteps\n",
    "        n1 = round(t1 / dt)\n",
    "        n2 = round(t2 / dt)\n",
    "        n3 = n1\n",
    "        \n",
    "        nt = nsteps - 2 * (n1 + n2 + n3)\n",
    "\n",
    "        a_plot = zeros(nsteps)\n",
    "        v_plot = zeros(nsteps)\n",
    "        f_plot = zeros(nsteps)\n",
    "        t_plot = linspace(0, t, nsteps, False)\n",
    "        f_plot[0] = self.elevatorFloor\n",
    "\n",
    "        acc = 0\n",
    "        v = 0\n",
    "        c = zeros(6)\n",
    "        ## Movement Loop\n",
    "        if destination > self.elevatorFloor:\n",
    "            for i in range(0, nsteps):\n",
    "                if i < n1 - 1:\n",
    "                    ## 1 - increasing acc and spd\n",
    "                    c[0] = c[0] + 1\n",
    "                    acc = self.inc_acc(acc, dt, am)\n",
    "                    v = self.inc_spd(v, acc * dt, v_travel)\n",
    "                elif i <= n1 + n2:\n",
    "                    ## 2 - increasing spd\n",
    "                    c[1] = c[1] + 1\n",
    "                    v = self.inc_spd(v, acc * dt, v_travel)\n",
    "                elif i <= n1 + n2 + n3:\n",
    "                    ## 3 - increasing spd and decreasing acc\n",
    "                    c[2] = c[2] + 1\n",
    "                    acc = self.dec_acc(acc, dt, 0)\n",
    "                    v = self.inc_spd(v, acc * dt, v_travel)\n",
    "                elif i >= nsteps - n3 - n2 - n1 - 1 and i < nsteps - n2 - n1 - 1:\n",
    "                    ## 1' - decreasing acc and spd\n",
    "                    c[3] = c[3] + 1\n",
    "                    acc = self.dec_acc(acc, dt, am)\n",
    "                    v = self.dec_spd(v, acc * dt, 0)\n",
    "                elif i >= nsteps - n2 - n1 - 1 and i <= nsteps - n1:\n",
    "                    ## 2' - decreasing spd\n",
    "                    c[4] = c[4] + 1\n",
    "                    v = self.dec_spd(v, acc * dt, 0)\n",
    "                elif i > nsteps - n1 and i <= nsteps:\n",
    "                    ## 3' - increasing acc and decreasing spd\n",
    "                    c[5] = c[5] + 1\n",
    "                    acc = self.inc_acc(acc, dt, 0)\n",
    "                    v = self.dec_spd(v, acc * dt, 0)\n",
    "                else:\n",
    "                    pass # mantaining velocity\n",
    "                    \n",
    "                self.updateFloor(v * dt)\n",
    "                a_plot[i] = acc\n",
    "                v_plot[i] = v\n",
    "                f_plot[i] = self.elevatorFloor\n",
    "        else:\n",
    "            # going down\n",
    "            pass\n",
    "\n",
    "        ## Final plot\n",
    "        plt.figure(1)\n",
    "        plt.plot(t_plot, f_plot)\n",
    "        plt.xlim(0, t_plot[-1])\n",
    "        plt.xlabel('Time')\n",
    "        plt.ylabel('Floor')\n",
    "        \n",
    "        plt.figure(2)\n",
    "        plt.plot(t_plot, v_plot)\n",
    "        plt.xlim(0, t_plot[-1])\n",
    "        plt.ylim(0, vm)\n",
    "        plt.xlabel('Time')\n",
    "        plt.ylabel('Speed')\n",
    "        \n",
    "        plt.figure(3)\n",
    "        plt.plot(t_plot, a_plot)\n",
    "        plt.xlim(0, t_plot[-1])\n",
    "        plt.ylim(-am*1.1, am*1.1)\n",
    "        plt.xlabel('Time')\n",
    "        plt.ylabel('Acceleration')\n",
    "        \n",
    "        # Debug\n",
    "        if self.debug:\n",
    "            print('TIMES')\n",
    "            print([t1, t2, t3])\n",
    "            print(c*dt)\n",
    "            print('DISTANCES')\n",
    "            print('expected:', [d1, d1 + d2, d1 + d2 + d3])\n",
    "            print('measured:', [f_plot[n1]*self.floorHeight,f_plot[n1+n2]*self.floorHeight,f_plot[n1+n2+n3]*self.floorHeight])\n",
    "            print('expected:', [d5, d6, d7])\n",
    "            print('measured:', [(f_plot[nsteps-n2-n1]-f_plot[nsteps-n3-n2-n1])*self.floorHeight,(f_plot[nsteps-n1]-f_plot[nsteps-n2-n1])*self.floorHeight,(f_plot[nsteps-1]-f_plot[nsteps-n1])*self.floorHeight])\n",
    "\n",
    "engine = physics()\n",
    "engine.moveElevator(20, 0)\n",
    "print('End floor:', engine.elevatorFloor)\n"
   ]
  },
  {
   "cell_type": "code",
   "execution_count": 13,
   "metadata": {},
   "outputs": [
    {
     "data": {
      "text/plain": [
       "'01-02-2019'"
      ]
     },
     "execution_count": 13,
     "metadata": {},
     "output_type": "execute_result"
    }
   ],
   "source": [
    "def fix_data(x):\n",
    "    mes_dict = {'jan': '01', 'fev': '02', 'mar': '03', 'abr': '04', 'mai': '05', 'jun': '06',\n",
    "               'jul': '07', 'ago': '08', 'set': '09', 'out': '10', 'nov': '11', 'dez': '12'}\n",
    "    mes, ano = x.split('-')\n",
    "    mes = mes_dict[mes]\n",
    "    ano = '20' + ano\n",
    "    return '-'.join(['01', mes, ano])\n",
    "\n",
    "fix_data('fev-19')"
   ]
  }
 ],
 "metadata": {
  "kernelspec": {
   "display_name": "Python 3",
   "language": "python",
   "name": "python3"
  },
  "language_info": {
   "codemirror_mode": {
    "name": "ipython",
    "version": 3
   },
   "file_extension": ".py",
   "mimetype": "text/x-python",
   "name": "python",
   "nbconvert_exporter": "python",
   "pygments_lexer": "ipython3",
   "version": "3.7.9"
  },
  "toc": {
   "base_numbering": 1,
   "nav_menu": {},
   "number_sections": true,
   "sideBar": true,
   "skip_h1_title": false,
   "title_cell": "Table of Contents",
   "title_sidebar": "Contents",
   "toc_cell": false,
   "toc_position": {},
   "toc_section_display": true,
   "toc_window_display": false
  },
  "varInspector": {
   "cols": {
    "lenName": 16,
    "lenType": 16,
    "lenVar": 40
   },
   "kernels_config": {
    "python": {
     "delete_cmd_postfix": "",
     "delete_cmd_prefix": "del ",
     "library": "var_list.py",
     "varRefreshCmd": "print(var_dic_list())"
    },
    "r": {
     "delete_cmd_postfix": ") ",
     "delete_cmd_prefix": "rm(",
     "library": "var_list.r",
     "varRefreshCmd": "cat(var_dic_list()) "
    }
   },
   "types_to_exclude": [
    "module",
    "function",
    "builtin_function_or_method",
    "instance",
    "_Feature"
   ],
   "window_display": false
  }
 },
 "nbformat": 4,
 "nbformat_minor": 4
}
