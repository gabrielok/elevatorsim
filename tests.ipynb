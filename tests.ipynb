{
 "cells": [
  {
   "cell_type": "code",
   "execution_count": 5,
   "metadata": {
    "ExecuteTime": {
     "end_time": "2021-08-11T20:51:51.172231Z",
     "start_time": "2021-08-11T20:51:51.152231Z"
    },
    "pycharm": {
     "name": "#%%\n"
    }
   },
   "outputs": [],
   "source": [
    "import random\n",
    "\n",
    "import matplotlib.pyplot as plt\n",
    "\n",
    "\n",
    "def calcbeta(alpha, beta, maximum, offset=0):\n",
    "    return [round(maximum * random.betavariate(alpha, beta)) + offset for _ in\n",
    "            range(500)]\n",
    "\n",
    "\n",
    "def plotbeta(betas, cumulative=False):\n",
    "    hist = plt.hist(betas, max(betas) - min(betas), density=True, histtype='step',\n",
    "                    cumulative=cumulative)\n",
    "    return hist"
   ]
  },
  {
   "cell_type": "code",
   "execution_count": null,
   "metadata": {
    "pycharm": {
     "name": "#%%\n",
     "is_executing": true
    }
   },
   "outputs": [],
   "source": [
    "import numpy as np\n",
    "\n",
    "beta = calcbeta(alpha=0.3, beta=2, maximum=3)\n",
    "print(beta)\n",
    "print(np.histogram(beta, bins=3))"
   ]
  },
  {
   "cell_type": "code",
   "execution_count": 7,
   "metadata": {
    "ExecuteTime": {
     "end_time": "2021-08-11T20:53:02.192266Z",
     "start_time": "2021-08-11T20:53:01.849877Z"
    },
    "scrolled": false,
    "pycharm": {
     "name": "#%%\n"
    }
   },
   "outputs": [
    {
     "name": "stdout",
     "output_type": "stream",
     "text": [
      "[array([0.736, 0.182, 0.082]), array([0., 1., 2.])]\n",
      "[array([0.72 , 0.222, 0.058]), array([1., 2., 3.])]\n"
     ]
    },
    {
     "data": {
      "text/plain": "<Figure size 432x288 with 1 Axes>",
      "image/png": "[encoded data removed]"
     },
     "metadata": {
      "needs_background": "light"
     },
     "output_type": "display_data"
    },
    {
     "data": {
      "text/plain": "<Figure size 432x288 with 1 Axes>",
      "image/png": "[encoded data removed]"
     },
     "metadata": {
      "needs_background": "light"
     },
     "output_type": "display_data"
    }
   ],
   "source": [
    "# works from home / rarely leaves\n",
    "beta = calcbeta(alpha=0.3, beta=2, maximum=3)\n",
    "hist = plotbeta(beta)\n",
    "p1_week = [hist[0], hist[1][:-1]]\n",
    "print(p1_week)\n",
    "\n",
    "# works outside / rarely leaves\n",
    "beta = calcbeta(alpha=0.3, beta=2, maximum=3, offset=1)\n",
    "plt.figure(2)\n",
    "hist = plotbeta(beta)\n",
    "p2_week = [hist[0], hist[1][:-1]]\n",
    "print(p2_week)"
   ]
  },
  {
   "cell_type": "code",
   "execution_count": 8,
   "metadata": {
    "ExecuteTime": {
     "end_time": "2021-08-11T20:22:52.533850Z",
     "start_time": "2021-08-11T20:22:52.134853Z"
    },
    "scrolled": false,
    "pycharm": {
     "name": "#%%\n"
    }
   },
   "outputs": [
    {
     "name": "stdout",
     "output_type": "stream",
     "text": [
      "[array([0.464, 0.346, 0.19 ]), array([0., 1., 2.])]\n",
      "[array([0.51 , 0.326, 0.164]), array([1., 2., 3.])]\n"
     ]
    },
    {
     "data": {
      "text/plain": "<Figure size 432x288 with 1 Axes>",
      "image/png": "[encoded data removed]"
     },
     "metadata": {
      "needs_background": "light"
     },
     "output_type": "display_data"
    },
    {
     "data": {
      "text/plain": "<Figure size 432x288 with 1 Axes>",
      "image/png": "[encoded data removed]"
     },
     "metadata": {
      "needs_background": "light"
     },
     "output_type": "display_data"
    }
   ],
   "source": [
    "# works from home / leaves often\n",
    "beta = calcbeta(0.5, 1.5, 3)\n",
    "hist = plotbeta(beta)\n",
    "p3_week = [hist[0], hist[1][:-1]]\n",
    "print(p3_week)\n",
    "\n",
    "# works outside / leaves often\n",
    "beta = calcbeta(0.5, 1.5, 3, 1)\n",
    "plt.figure(2)\n",
    "hist = plotbeta(beta)\n",
    "p3_week = [hist[0], hist[1][:-1]]\n",
    "print(p3_week)"
   ]
  },
  {
   "cell_type": "code",
   "execution_count": 9,
   "metadata": {
    "ExecuteTime": {
     "end_time": "2021-08-11T20:22:52.936853Z",
     "start_time": "2021-08-11T20:22:52.583866Z"
    },
    "scrolled": false,
    "pycharm": {
     "name": "#%%\n"
    }
   },
   "outputs": [
    {
     "name": "stdout",
     "output_type": "stream",
     "text": [
      "[array([0.282, 0.45 , 0.268]), array([0., 1., 2.])]\n",
      "[array([0.262, 0.464, 0.274]), array([1., 2., 3.])]\n"
     ]
    },
    {
     "data": {
      "text/plain": "<Figure size 432x288 with 1 Axes>",
      "image/png": "[encoded data removed]"
     },
     "metadata": {
      "needs_background": "light"
     },
     "output_type": "display_data"
    },
    {
     "data": {
      "text/plain": "<Figure size 432x288 with 1 Axes>",
      "image/png": "[encoded data removed]"
     },
     "metadata": {
      "needs_background": "light"
     },
     "output_type": "display_data"
    }
   ],
   "source": [
    "# works from home / leaves very often\n",
    "beta = calcbeta(1, 2, 3)\n",
    "hist = plotbeta(beta)\n",
    "p4_week = [hist[0], hist[1][:-1]]\n",
    "print(p4_week)\n",
    "\n",
    "# works outside / leaves very often\n",
    "beta = calcbeta(1, 2, 3, 1)\n",
    "plt.figure(2)\n",
    "hist = plotbeta(beta)\n",
    "p4_week = [hist[0], hist[1][:-1]]\n",
    "print(p4_week)"
   ]
  },
  {
   "cell_type": "code",
   "execution_count": 2,
   "metadata": {
    "pycharm": {
     "name": "#%%\n"
    }
   },
   "outputs": [
    {
     "name": "stdout",
     "output_type": "stream",
     "text": [
      "[11]\n",
      "[-7, -6, -5]\n"
     ]
    }
   ],
   "source": [
    "from elevatorsim.buildingprofile import StandardProfile\n",
    "from elevatorsim.building import Building\n",
    "from elevatorsim.elevator import Elevator\n",
    "\n",
    "elevator = Elevator()\n",
    "building = Building(profile=StandardProfile(), elevator=elevator)\n",
    "building.elevator.floor = 10\n",
    "for floor in [6, 7, 5, 11]:\n",
    "    building.elevator.push(floor)\n",
    "print(building.elevator.order_up)\n",
    "print(building.elevator.order_down)"
   ]
  },
  {
   "cell_type": "code",
   "execution_count": 3,
   "metadata": {
    "pycharm": {
     "name": "#%%\n"
    }
   },
   "outputs": [
    {
     "data": {
      "text/plain": "7"
     },
     "execution_count": 3,
     "metadata": {},
     "output_type": "execute_result"
    }
   ],
   "source": [
    "building.elevator.peek()"
   ]
  },
  {
   "cell_type": "code",
   "execution_count": null,
   "metadata": {
    "scrolled": false,
    "pycharm": {
     "name": "#%%\n",
     "is_executing": true
    }
   },
   "outputs": [],
   "source": [
    "from elevatorsim.physics import Physics\n",
    "\n",
    "engine = Physics(building, debug=True)\n",
    "engine.move_elevator(0, 20)\n"
   ]
  }
 ],
 "metadata": {
  "kernelspec": {
   "display_name": "Python 3",
   "language": "python",
   "name": "python3"
  },
  "language_info": {
   "codemirror_mode": {
    "name": "ipython",
    "version": 3
   },
   "file_extension": ".py",
   "mimetype": "text/x-python",
   "name": "python",
   "nbconvert_exporter": "python",
   "pygments_lexer": "ipython3",
   "version": "3.7.9"
  },
  "toc": {
   "base_numbering": 1,
   "nav_menu": {},
   "number_sections": true,
   "sideBar": true,
   "skip_h1_title": false,
   "title_cell": "Table of Contents",
   "title_sidebar": "Contents",
   "toc_cell": false,
   "toc_position": {},
   "toc_section_display": true,
   "toc_window_display": false
  },
  "varInspector": {
   "cols": {
    "lenName": 16,
    "lenType": 16,
    "lenVar": 40
   },
   "kernels_config": {
    "python": {
     "delete_cmd_postfix": "",
     "delete_cmd_prefix": "del ",
     "library": "var_list.py",
     "varRefreshCmd": "print(var_dic_list())"
    },
    "r": {
     "delete_cmd_postfix": ") ",
     "delete_cmd_prefix": "rm(",
     "library": "var_list.r",
     "varRefreshCmd": "cat(var_dic_list()) "
    }
   },
   "types_to_exclude": [
    "module",
    "function",
    "builtin_function_or_method",
    "instance",
    "_Feature"
   ],
   "window_display": false
  }
 },
 "nbformat": 4,
 "nbformat_minor": 4
}